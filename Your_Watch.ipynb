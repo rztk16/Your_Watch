{
  "nbformat": 4,
  "nbformat_minor": 0,
  "metadata": {
    "colab": {
      "provenance": []
    },
    "kernelspec": {
      "name": "python3",
      "display_name": "Python 3"
    },
    "language_info": {
      "name": "python"
    }
  },
  "cells": [
    {
      "cell_type": "code",
      "execution_count": null,
      "metadata": {
        "id": "UtWcDmaIG1Cd"
      },
      "outputs": [],
      "source": [
        "!pip install -U -q google-generativeai"
      ]
    },
    {
      "cell_type": "code",
      "source": [
        "import google.generativeai as genai"
      ],
      "metadata": {
        "id": "lSgSirmFG-Nf"
      },
      "execution_count": null,
      "outputs": []
    },
    {
      "cell_type": "code",
      "source": [
        "from google.colab import userdata\n",
        "GOOGLE_API_KEY=userdata.get('GOOGLE_API_KEY')\n",
        "genai.configure(api_key=GOOGLE_API_KEY)"
      ],
      "metadata": {
        "id": "uQej3mRdHAws"
      },
      "execution_count": null,
      "outputs": []
    },
    {
      "cell_type": "code",
      "source": [
        "!pip install pytube"
      ],
      "metadata": {
        "colab": {
          "base_uri": "https://localhost:8080/"
        },
        "id": "78OoVcU1QlXV",
        "outputId": "7e5fb969-9996-4fa9-d4eb-1b2cae66f68a"
      },
      "execution_count": null,
      "outputs": [
        {
          "output_type": "stream",
          "name": "stdout",
          "text": [
            "Requirement already satisfied: pytube in /usr/local/lib/python3.10/dist-packages (15.0.0)\n"
          ]
        }
      ]
    },
    {
      "cell_type": "code",
      "source": [
        "from pytube import YouTube\n",
        "\n",
        "# YouTube video URL\n",
        "url = \"https://www.youtube.com/watch?v=lJXaNYTVjrQ&t=2s&ab_channel=VincentBossel\"\n",
        "\n",
        "# Create a YouTube object\n",
        "yt = YouTube(url)\n",
        "\n",
        "# Get the highest resolution stream\n",
        "stream = yt.streams.get_highest_resolution()\n",
        "\n",
        "# Download the video to the current directory\n",
        "video_file_name = stream.download()\n",
        "\n",
        "print(\"Video downloaded successfully!\")"
      ],
      "metadata": {
        "colab": {
          "base_uri": "https://localhost:8080/"
        },
        "id": "dMBDhuZCRTUo",
        "outputId": "9afa2a66-fb98-4f0a-e1f2-4b361d81b958"
      },
      "execution_count": null,
      "outputs": [
        {
          "output_type": "stream",
          "name": "stdout",
          "text": [
            "Video downloaded successfully!\n"
          ]
        }
      ]
    },
    {
      "cell_type": "code",
      "source": [
        "#video_file_name = \"/content/THE COOK _ Award-Winning Short Film.mp4\""
      ],
      "metadata": {
        "id": "WGE-CPw4HEOT"
      },
      "execution_count": null,
      "outputs": []
    },
    {
      "cell_type": "code",
      "source": [
        "import cv2\n",
        "import os\n",
        "import shutil\n",
        "\n",
        "# Create or cleanup existing extracted image frames directory.\n",
        "FRAME_EXTRACTION_DIRECTORY = \"/content/frames\"\n",
        "FRAME_PREFIX = \"_frame\"\n",
        "\n",
        "def create_frame_output_dir(output_dir):\n",
        "    if not os.path.exists(output_dir):\n",
        "        os.makedirs(output_dir)\n",
        "    else:\n",
        "        shutil.rmtree(output_dir)\n",
        "        os.makedirs(output_dir)\n",
        "\n",
        "def extract_frame_from_video(video_file_path, interval_seconds=5):\n",
        "    print(f\"Extracting frames from {video_file_path} at {interval_seconds} second intervals. This might take a bit...\")\n",
        "    create_frame_output_dir(FRAME_EXTRACTION_DIRECTORY)\n",
        "    vidcap = cv2.VideoCapture(video_file_path)\n",
        "    fps = vidcap.get(cv2.CAP_PROP_FPS)\n",
        "    frame_duration = 1 / fps  # Time duration of each frame (in seconds)\n",
        "    target_time = 0\n",
        "    frame_count = 0\n",
        "    while vidcap.isOpened():\n",
        "        success, frame = vidcap.read()\n",
        "        if not success:  # End of video\n",
        "            break\n",
        "        current_time = frame_count * frame_duration\n",
        "        if current_time >= target_time:\n",
        "            min = int(current_time // 60)\n",
        "            sec = int(current_time % 60)\n",
        "            time_string = f\"{min:02d}:{sec:02d}\"\n",
        "            image_name = f\"{FRAME_PREFIX}{time_string}.jpg\"\n",
        "            output_filename = os.path.join(FRAME_EXTRACTION_DIRECTORY, image_name)\n",
        "            cv2.imwrite(output_filename, frame)\n",
        "            target_time += interval_seconds\n",
        "        frame_count += 1\n",
        "    vidcap.release()  # Release the capture object\n",
        "    print(f\"Completed video frame extraction!\\n\\nExtracted: {frame_count} frames\")\n",
        "\n",
        "# Example usage:\n",
        "video_file_name = stream.download()\n",
        "extract_frame_from_video(video_file_name, interval_seconds=15)\n"
      ],
      "metadata": {
        "colab": {
          "base_uri": "https://localhost:8080/"
        },
        "id": "01khH0uhHH7g",
        "outputId": "5aac82a1-20f3-414d-cf70-3c17399ae80b"
      },
      "execution_count": null,
      "outputs": [
        {
          "output_type": "stream",
          "name": "stdout",
          "text": [
            "Extracting frames from /content/THE COOK  Award-Winning Short Film.mp4 at 15 second intervals. This might take a bit...\n",
            "Completed video frame extraction!\n",
            "\n",
            "Extracted: 5101 frames\n"
          ]
        }
      ]
    },
    {
      "cell_type": "code",
      "source": [
        "from google.colab import drive\n",
        "drive.mount('/content/drive')"
      ],
      "metadata": {
        "colab": {
          "base_uri": "https://localhost:8080/"
        },
        "id": "l_hP9NL_i-D5",
        "outputId": "82cf228e-8fda-47f8-a768-128b6c81f85e"
      },
      "execution_count": null,
      "outputs": [
        {
          "output_type": "stream",
          "name": "stdout",
          "text": [
            "Drive already mounted at /content/drive; to attempt to forcibly remount, call drive.mount(\"/content/drive\", force_remount=True).\n"
          ]
        }
      ]
    },
    {
      "cell_type": "code",
      "source": [
        "import os\n",
        "\n",
        "class File:\n",
        "  def __init__(self, file_path: str, display_name: str = None):\n",
        "    self.file_path = file_path\n",
        "    if display_name:\n",
        "\n",
        "      self.display_name = display_name\n",
        "    self.timestamp = get_timestamp(file_path)\n",
        "\n",
        "  def set_file_response(self, response):\n",
        "    self.response = response\n",
        "\n",
        "def get_timestamp(filename):\n",
        "  \"\"\"Extracts the frame count (as an integer) from a filename with the format\n",
        "     'output_file_prefix_frame00:00.jpg'.\n",
        "  \"\"\"\n",
        "  parts = filename.split(FRAME_PREFIX)\n",
        "  if len(parts) != 2:\n",
        "      return None  # Indicates the filename might be incorrectly formatted\n",
        "  return parts[1].split('.')[0]\n",
        "\n",
        "# Process each frame in the output directory\n",
        "files = os.listdir(FRAME_EXTRACTION_DIRECTORY)\n",
        "files = sorted(files)\n",
        "files_to_upload = []\n",
        "for file in files:\n",
        "  files_to_upload.append(\n",
        "      File(file_path=os.path.join(FRAME_EXTRACTION_DIRECTORY, file)))\n",
        "\n",
        "# Upload the files to the API\n",
        "# Only upload a 10 second slice of files to reduce upload time.\n",
        "# Change full_video to True to upload the whole video.\n",
        "full_video = False\n",
        "\n",
        "uploaded_files = []\n",
        "print(f'Uploading {len(files_to_upload) if full_video else 10} files. This might take a bit...')\n",
        "\n",
        "for file in files_to_upload if full_video else files_to_upload[1:10]:\n",
        "  print(f'Uploading: {file.file_path}...')\n",
        "  response = genai.upload_file(path=file.file_path)\n",
        "  file.set_file_response(response)\n",
        "  uploaded_files.append(file)\n",
        "\n",
        "print(f\"Completed file uploads!\\n\\nUploaded: {len(uploaded_files)} files\")"
      ],
      "metadata": {
        "colab": {
          "base_uri": "https://localhost:8080/"
        },
        "id": "1X5n4RwdHJ6b",
        "outputId": "b8039988-d7ab-4c99-dccd-ce479cf0143d"
      },
      "execution_count": null,
      "outputs": [
        {
          "output_type": "stream",
          "name": "stdout",
          "text": [
            "Uploading 10 files. This might take a bit...\n",
            "Uploading: /content/frames/_frame00:15.jpg...\n",
            "Uploading: /content/frames/_frame00:30.jpg...\n",
            "Uploading: /content/frames/_frame00:45.jpg...\n",
            "Uploading: /content/frames/_frame01:00.jpg...\n",
            "Uploading: /content/frames/_frame01:15.jpg...\n",
            "Uploading: /content/frames/_frame01:30.jpg...\n",
            "Uploading: /content/frames/_frame01:45.jpg...\n",
            "Uploading: /content/frames/_frame02:00.jpg...\n",
            "Uploading: /content/frames/_frame02:15.jpg...\n",
            "Completed file uploads!\n",
            "\n",
            "Uploaded: 9 files\n"
          ]
        }
      ]
    },
    {
      "cell_type": "code",
      "source": [
        "# Create the prompt.\n",
        "prompt = \"describe what you see\"\n",
        "\n",
        "# Set the model to Gemini 1.5 Pro.\n",
        "#model = genai.GenerativeModel(model_name=\"models/gemini-1.5-pro-latest\")\n",
        "generation_config = {\n",
        "  \"temperature\": 0,\n",
        "  \"top_p\": 0.95,\n",
        "  \"top_k\": 0,\n",
        "  \"max_output_tokens\": 8192\n",
        "}\n",
        "\n",
        "safety_settings = [\n",
        "  {\n",
        "    \"category\": \"HARM_CATEGORY_HARASSMENT\",\n",
        "    \"threshold\": \"BLOCK_NONE\"\n",
        "  },\n",
        "  {\n",
        "    \"category\": \"HARM_CATEGORY_HATE_SPEECH\",\n",
        "    \"threshold\": \"BLOCK_NONE\"\n",
        "  },\n",
        "  {\n",
        "    \"category\": \"HARM_CATEGORY_SEXUALLY_EXPLICIT\",\n",
        "    \"threshold\": \"BLOCK_NONE\"\n",
        "  },\n",
        "  {\n",
        "    \"category\": \"HARM_CATEGORY_DANGEROUS_CONTENT\",\n",
        "    \"threshold\": \"BLOCK_NONE\"\n",
        "  },\n",
        "]\n",
        "\n",
        "system_instruction = \"you are a movie watcher which inspects movies to find scenes that people want to skip and find \\nyou will be given a link and a description of what is unwanted to be seen and you will watch return the timestamps where these things happen and when it ends so people can find and skip those scenes\"\n",
        "\n",
        "model = genai.GenerativeModel(model_name=\"models/gemini-1.5-pro-latest\",\n",
        "                              generation_config=generation_config,\n",
        "                              system_instruction=system_instruction,\n",
        "                              safety_settings=safety_settings)\n",
        "\n",
        "# Make GenerateContent request with the structure described above.\n",
        "def make_request(prompt, files):\n",
        "  request = [prompt]\n",
        "  for file in files:\n",
        "    request.append(file.timestamp)\n",
        "    request.append(file.response)\n",
        "  return request\n",
        "\n",
        "# Make the LLM request.\n",
        "request = make_request(prompt, uploaded_files)\n",
        "response = model.generate_content(request,\n",
        "                                  request_options={\"timeout\": 12000})\n",
        "print(response.text)"
      ],
      "metadata": {
        "colab": {
          "base_uri": "https://localhost:8080/",
          "height": 384
        },
        "id": "U9xD_1NAHSKx",
        "outputId": "857cbddf-f189-4488-a217-18e4d49e5b18"
      },
      "execution_count": null,
      "outputs": [
        {
          "output_type": "stream",
          "name": "stdout",
          "text": [
            "## Scene Breakdown:\n",
            "\n",
            "The provided screenshots depict a sequence involving food preparation and consumption, with potential unsettling or disturbing elements.  Here's a breakdown:\n",
            "\n",
            "**00:15 - 00:30:** A chef is working in a dimly lit kitchen, the atmosphere seems tense and serious. \n",
            "**00:30 - 01:00:** Focus on food preparation, but the specific ingredients and methods are unclear, potentially hinting at unusual or unsettling culinary practices.\n",
            "**01:00 - 01:15:** The chef's intense focus on a seemingly empty bowl might suggest unconventional or disturbing elements within the dish.\n",
            "**01:15 - 01:30:** A dark scene with blurred lights, creating suspense and anticipation for something ominous to happen.\n",
            "**01:30 - 02:00:** A covered dish is presented, maintaining the mystery around the food. The reveal shows a minimalist dish with unusual elements like a flower and what appears to be a cigarette, further hinting at the unsettling nature of the meal.\n",
            "**02:00 - 02:15:** A man consuming the cigarette-like object from the dish, potentially symbolizing the consumption of something harmful or taboo.\n",
            "**02:15 - End:** The man is seen shirtless in a dark and confined space, possibly a bathroom, with a distressed expression. This could imply negative consequences or a disturbing aftermath of consuming the food. \n",
            "\n",
            "## Potential Skippable Scenes:\n",
            "\n",
            "Based on the description, viewers who wish to avoid unsettling or disturbing content might consider skipping the following sections:\n",
            "\n",
            "* **01:00 - 01:15:** The chef's intense focus on the empty bowl.\n",
            "* **01:30 - 02:15:** The presentation and consumption of the unusual dish, including the cigarette-like object.\n",
            "* **02:15 - End:** The man's potential distress in the confined space. \n",
            "\n"
          ]
        }
      ]
    },
    {
      "cell_type": "code",
      "source": [
        "print(f'Deleting {len(uploaded_files)} images. This might take a bit...')\n",
        "for file in uploaded_files:\n",
        "  genai.delete_file(file.response.name)\n",
        "  print(f'Deleted {file.file_path} at URI {file.response.uri}')\n",
        "print(f\"Completed deleting files!\\n\\nDeleted: {len(uploaded_files)} files\")"
      ],
      "metadata": {
        "colab": {
          "base_uri": "https://localhost:8080/",
          "height": 243
        },
        "id": "_UdMFTM6HbXp",
        "outputId": "a598acad-2daf-4964-c908-f8b23bf2df15"
      },
      "execution_count": null,
      "outputs": [
        {
          "output_type": "stream",
          "name": "stdout",
          "text": [
            "Deleting 9 images. This might take a bit...\n",
            "Deleted /content/frames/_frame00:15.jpg at URI https://generativelanguage.googleapis.com/v1beta/files/xfw769wl799p\n",
            "Deleted /content/frames/_frame00:30.jpg at URI https://generativelanguage.googleapis.com/v1beta/files/c5ds84cdkdv3\n",
            "Deleted /content/frames/_frame00:45.jpg at URI https://generativelanguage.googleapis.com/v1beta/files/4blj8mgyxisn\n",
            "Deleted /content/frames/_frame01:00.jpg at URI https://generativelanguage.googleapis.com/v1beta/files/n35lyd6b0tr3\n",
            "Deleted /content/frames/_frame01:15.jpg at URI https://generativelanguage.googleapis.com/v1beta/files/1n25p3t7nfm2\n",
            "Deleted /content/frames/_frame01:30.jpg at URI https://generativelanguage.googleapis.com/v1beta/files/v5dnp3nwgsxm\n",
            "Deleted /content/frames/_frame01:45.jpg at URI https://generativelanguage.googleapis.com/v1beta/files/ycvm8ouc4kr7\n",
            "Deleted /content/frames/_frame02:00.jpg at URI https://generativelanguage.googleapis.com/v1beta/files/jd50kfm55js6\n",
            "Deleted /content/frames/_frame02:15.jpg at URI https://generativelanguage.googleapis.com/v1beta/files/yumu82pck8jw\n",
            "Completed deleting files!\n",
            "\n",
            "Deleted: 9 files\n"
          ]
        }
      ]
    },
    {
      "cell_type": "code",
      "source": [],
      "metadata": {
        "id": "oNylblBUngI5"
      },
      "execution_count": null,
      "outputs": []
    }
  ]
}